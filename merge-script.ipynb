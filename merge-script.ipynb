{
 "cells": [
  {
   "cell_type": "markdown",
   "id": "18ebd2a1-347e-404c-9f13-9806cada9069",
   "metadata": {},
   "source": [
    "# Merge 2011 and 2019 datasets of Italian dwellings by occupancy status"
   ]
  },
  {
   "cell_type": "markdown",
   "id": "78d00d0c-5286-4bb7-afca-bdb44bd4fb61",
   "metadata": {},
   "source": [
    "## Import datasets and create dataframes"
   ]
  },
  {
   "cell_type": "code",
   "execution_count": 1,
   "id": "083207db-ccc6-4bcd-9929-3c7b5f846506",
   "metadata": {},
   "outputs": [],
   "source": [
    "import pandas as pd"
   ]
  },
  {
   "cell_type": "code",
   "execution_count": 2,
   "id": "4622bf84-c996-4d56-b4ba-e71a19e885ed",
   "metadata": {},
   "outputs": [
    {
     "data": {
      "text/html": [
       "<div>\n",
       "<style scoped>\n",
       "    .dataframe tbody tr th:only-of-type {\n",
       "        vertical-align: middle;\n",
       "    }\n",
       "\n",
       "    .dataframe tbody tr th {\n",
       "        vertical-align: top;\n",
       "    }\n",
       "\n",
       "    .dataframe thead th {\n",
       "        text-align: right;\n",
       "    }\n",
       "</style>\n",
       "<table border=\"1\" class=\"dataframe\">\n",
       "  <thead>\n",
       "    <tr style=\"text-align: right;\">\n",
       "      <th></th>\n",
       "      <th>Territory</th>\n",
       "      <th>occupied conventional dwellings by at least one resident person</th>\n",
       "      <th>occupied conventional dwellings by not resident people</th>\n",
       "      <th>unoccupied conventional dwellings</th>\n",
       "      <th>all items</th>\n",
       "    </tr>\n",
       "  </thead>\n",
       "  <tbody>\n",
       "    <tr>\n",
       "      <th>87</th>\n",
       "      <td>Asti</td>\n",
       "      <td>94279</td>\n",
       "      <td>45</td>\n",
       "      <td>30241</td>\n",
       "      <td>124565</td>\n",
       "    </tr>\n",
       "    <tr>\n",
       "      <th>51</th>\n",
       "      <td>Varese</td>\n",
       "      <td>361978</td>\n",
       "      <td>165</td>\n",
       "      <td>57288</td>\n",
       "      <td>419431</td>\n",
       "    </tr>\n",
       "    <tr>\n",
       "      <th>74</th>\n",
       "      <td>Verbano-Cusio-Ossola</td>\n",
       "      <td>71729</td>\n",
       "      <td>26</td>\n",
       "      <td>39210</td>\n",
       "      <td>110965</td>\n",
       "    </tr>\n",
       "  </tbody>\n",
       "</table>\n",
       "</div>"
      ],
      "text/plain": [
       "               Territory  \\\n",
       "87                  Asti   \n",
       "51                Varese   \n",
       "74  Verbano-Cusio-Ossola   \n",
       "\n",
       "    occupied conventional dwellings by at least one resident person  \\\n",
       "87                                              94279                 \n",
       "51                                             361978                 \n",
       "74                                              71729                 \n",
       "\n",
       "    occupied conventional dwellings by not resident people  \\\n",
       "87                                                 45        \n",
       "51                                                165        \n",
       "74                                                 26        \n",
       "\n",
       "    unoccupied conventional dwellings  all items  \n",
       "87                              30241     124565  \n",
       "51                              57288     419431  \n",
       "74                              39210     110965  "
      ]
     },
     "execution_count": 2,
     "metadata": {},
     "output_type": "execute_result"
    }
   ],
   "source": [
    "df_2011 = pd.read_csv('data/dwellings by occupancy status 2011.csv')\n",
    "df_2011.sample(3)"
   ]
  },
  {
   "cell_type": "code",
   "execution_count": 3,
   "id": "a2d40fca-b28a-467f-aaad-1848b73392b3",
   "metadata": {},
   "outputs": [
    {
     "data": {
      "text/html": [
       "<div>\n",
       "<style scoped>\n",
       "    .dataframe tbody tr th:only-of-type {\n",
       "        vertical-align: middle;\n",
       "    }\n",
       "\n",
       "    .dataframe tbody tr th {\n",
       "        vertical-align: top;\n",
       "    }\n",
       "\n",
       "    .dataframe thead th {\n",
       "        text-align: right;\n",
       "    }\n",
       "</style>\n",
       "<table border=\"1\" class=\"dataframe\">\n",
       "  <thead>\n",
       "    <tr style=\"text-align: right;\">\n",
       "      <th></th>\n",
       "      <th>Territory</th>\n",
       "      <th>occupied conventional dwellings</th>\n",
       "      <th>unoccupied conventional dwellings</th>\n",
       "      <th>conventional dwellings</th>\n",
       "    </tr>\n",
       "  </thead>\n",
       "  <tbody>\n",
       "    <tr>\n",
       "      <th>104</th>\n",
       "      <td>Cagliari</td>\n",
       "      <td>188050</td>\n",
       "      <td>31269</td>\n",
       "      <td>219319</td>\n",
       "    </tr>\n",
       "    <tr>\n",
       "      <th>66</th>\n",
       "      <td>Roma</td>\n",
       "      <td>1892483</td>\n",
       "      <td>377083</td>\n",
       "      <td>2269566</td>\n",
       "    </tr>\n",
       "    <tr>\n",
       "      <th>54</th>\n",
       "      <td>Siena</td>\n",
       "      <td>116021</td>\n",
       "      <td>47958</td>\n",
       "      <td>163979</td>\n",
       "    </tr>\n",
       "  </tbody>\n",
       "</table>\n",
       "</div>"
      ],
      "text/plain": [
       "    Territory  occupied conventional dwellings  \\\n",
       "104  Cagliari                           188050   \n",
       "66       Roma                          1892483   \n",
       "54      Siena                           116021   \n",
       "\n",
       "     unoccupied conventional dwellings  conventional dwellings  \n",
       "104                              31269                  219319  \n",
       "66                              377083                 2269566  \n",
       "54                               47958                  163979  "
      ]
     },
     "execution_count": 3,
     "metadata": {},
     "output_type": "execute_result"
    }
   ],
   "source": [
    "df_2019 = pd.read_csv('data/dwellings by occupancy status 2019.csv')\n",
    "df_2019.sample(3)"
   ]
  },
  {
   "cell_type": "markdown",
   "id": "577f0bbc-ee18-4aaa-a44f-dc9781a4325d",
   "metadata": {},
   "source": [
    "## Compare lengths and check duplicates"
   ]
  },
  {
   "cell_type": "code",
   "execution_count": 4,
   "id": "5dcd2b5d-b005-4379-8cb1-a16a1fb4b427",
   "metadata": {},
   "outputs": [
    {
     "data": {
      "text/plain": [
       "110"
      ]
     },
     "execution_count": 4,
     "metadata": {},
     "output_type": "execute_result"
    }
   ],
   "source": [
    "len(df_2011)"
   ]
  },
  {
   "cell_type": "code",
   "execution_count": 5,
   "id": "df86f806-8bb7-4a23-b7e8-64d4152d4d1a",
   "metadata": {},
   "outputs": [
    {
     "data": {
      "text/plain": [
       "107"
      ]
     },
     "execution_count": 5,
     "metadata": {},
     "output_type": "execute_result"
    }
   ],
   "source": [
    "len(df_2019)"
   ]
  },
  {
   "cell_type": "code",
   "execution_count": 6,
   "id": "4df9cc75-7558-4294-825b-1ce48aa514ae",
   "metadata": {},
   "outputs": [
    {
     "data": {
      "text/html": [
       "<div>\n",
       "<style scoped>\n",
       "    .dataframe tbody tr th:only-of-type {\n",
       "        vertical-align: middle;\n",
       "    }\n",
       "\n",
       "    .dataframe tbody tr th {\n",
       "        vertical-align: top;\n",
       "    }\n",
       "\n",
       "    .dataframe thead th {\n",
       "        text-align: right;\n",
       "    }\n",
       "</style>\n",
       "<table border=\"1\" class=\"dataframe\">\n",
       "  <thead>\n",
       "    <tr style=\"text-align: right;\">\n",
       "      <th></th>\n",
       "      <th>Territory</th>\n",
       "      <th>occupied conventional dwellings by at least one resident person</th>\n",
       "      <th>occupied conventional dwellings by not resident people</th>\n",
       "      <th>unoccupied conventional dwellings</th>\n",
       "      <th>all items</th>\n",
       "    </tr>\n",
       "  </thead>\n",
       "  <tbody>\n",
       "  </tbody>\n",
       "</table>\n",
       "</div>"
      ],
      "text/plain": [
       "Empty DataFrame\n",
       "Columns: [Territory, occupied conventional dwellings by at least one resident person, occupied conventional dwellings by not resident people, unoccupied conventional dwellings, all items]\n",
       "Index: []"
      ]
     },
     "execution_count": 6,
     "metadata": {},
     "output_type": "execute_result"
    }
   ],
   "source": [
    "df_2011[df_2011['Territory'].duplicated()]"
   ]
  },
  {
   "cell_type": "code",
   "execution_count": 7,
   "id": "1fdeb9e4-512a-4fb2-a888-f9fe0c343e30",
   "metadata": {},
   "outputs": [
    {
     "data": {
      "text/html": [
       "<div>\n",
       "<style scoped>\n",
       "    .dataframe tbody tr th:only-of-type {\n",
       "        vertical-align: middle;\n",
       "    }\n",
       "\n",
       "    .dataframe tbody tr th {\n",
       "        vertical-align: top;\n",
       "    }\n",
       "\n",
       "    .dataframe thead th {\n",
       "        text-align: right;\n",
       "    }\n",
       "</style>\n",
       "<table border=\"1\" class=\"dataframe\">\n",
       "  <thead>\n",
       "    <tr style=\"text-align: right;\">\n",
       "      <th></th>\n",
       "      <th>Territory</th>\n",
       "      <th>occupied conventional dwellings</th>\n",
       "      <th>unoccupied conventional dwellings</th>\n",
       "      <th>conventional dwellings</th>\n",
       "    </tr>\n",
       "  </thead>\n",
       "  <tbody>\n",
       "  </tbody>\n",
       "</table>\n",
       "</div>"
      ],
      "text/plain": [
       "Empty DataFrame\n",
       "Columns: [Territory, occupied conventional dwellings, unoccupied conventional dwellings, conventional dwellings]\n",
       "Index: []"
      ]
     },
     "execution_count": 7,
     "metadata": {},
     "output_type": "execute_result"
    }
   ],
   "source": [
    "df_2019[df_2019['Territory'].duplicated()]"
   ]
  },
  {
   "cell_type": "markdown",
   "id": "2e8572c3-c4c2-4a68-9987-24c43cada198",
   "metadata": {},
   "source": [
    "2011 dataset has 3 more rows than 2019: it's not because of duplicates, but because some provinces have changed"
   ]
  },
  {
   "cell_type": "markdown",
   "id": "47dce2d1-fc37-48bd-8b63-2058b7b603f1",
   "metadata": {},
   "source": [
    "## Adapt structure of 2011 data to the one of 2019 data"
   ]
  },
  {
   "cell_type": "code",
   "execution_count": 8,
   "id": "8a39b8c0-2d25-4e07-9197-6550743f9f4d",
   "metadata": {},
   "outputs": [
    {
     "data": {
      "text/html": [
       "<div>\n",
       "<style scoped>\n",
       "    .dataframe tbody tr th:only-of-type {\n",
       "        vertical-align: middle;\n",
       "    }\n",
       "\n",
       "    .dataframe tbody tr th {\n",
       "        vertical-align: top;\n",
       "    }\n",
       "\n",
       "    .dataframe thead th {\n",
       "        text-align: right;\n",
       "    }\n",
       "</style>\n",
       "<table border=\"1\" class=\"dataframe\">\n",
       "  <thead>\n",
       "    <tr style=\"text-align: right;\">\n",
       "      <th></th>\n",
       "      <th>Territory</th>\n",
       "      <th>occupied conventional dwellings by at least one resident person</th>\n",
       "      <th>occupied conventional dwellings by not resident people</th>\n",
       "      <th>unoccupied conventional dwellings</th>\n",
       "      <th>all items</th>\n",
       "      <th>occupied convetional dwellings</th>\n",
       "    </tr>\n",
       "  </thead>\n",
       "  <tbody>\n",
       "    <tr>\n",
       "      <th>1</th>\n",
       "      <td>Cosenza</td>\n",
       "      <td>283897</td>\n",
       "      <td>861</td>\n",
       "      <td>198166</td>\n",
       "      <td>482924</td>\n",
       "      <td>284758</td>\n",
       "    </tr>\n",
       "    <tr>\n",
       "      <th>46</th>\n",
       "      <td>Ferrara</td>\n",
       "      <td>157453</td>\n",
       "      <td>1259</td>\n",
       "      <td>59797</td>\n",
       "      <td>218509</td>\n",
       "      <td>158712</td>\n",
       "    </tr>\n",
       "    <tr>\n",
       "      <th>9</th>\n",
       "      <td>Bergamo</td>\n",
       "      <td>437474</td>\n",
       "      <td>128</td>\n",
       "      <td>128768</td>\n",
       "      <td>566370</td>\n",
       "      <td>437602</td>\n",
       "    </tr>\n",
       "  </tbody>\n",
       "</table>\n",
       "</div>"
      ],
      "text/plain": [
       "   Territory  occupied conventional dwellings by at least one resident person  \\\n",
       "1    Cosenza                                             283897                 \n",
       "46   Ferrara                                             157453                 \n",
       "9    Bergamo                                             437474                 \n",
       "\n",
       "    occupied conventional dwellings by not resident people  \\\n",
       "1                                                 861        \n",
       "46                                               1259        \n",
       "9                                                 128        \n",
       "\n",
       "    unoccupied conventional dwellings  all items  \\\n",
       "1                              198166     482924   \n",
       "46                              59797     218509   \n",
       "9                              128768     566370   \n",
       "\n",
       "    occupied convetional dwellings  \n",
       "1                           284758  \n",
       "46                          158712  \n",
       "9                           437602  "
      ]
     },
     "execution_count": 8,
     "metadata": {},
     "output_type": "execute_result"
    }
   ],
   "source": [
    "df_2011['occupied convetional dwellings'] = df_2011['occupied conventional dwellings by at least one resident person']+df_2011['occupied conventional dwellings by not resident people']\n",
    "df_2011.sample(3)"
   ]
  },
  {
   "cell_type": "code",
   "execution_count": 9,
   "id": "8983870b-6b6c-42f3-99f0-562b496f9430",
   "metadata": {},
   "outputs": [
    {
     "data": {
      "text/html": [
       "<div>\n",
       "<style scoped>\n",
       "    .dataframe tbody tr th:only-of-type {\n",
       "        vertical-align: middle;\n",
       "    }\n",
       "\n",
       "    .dataframe tbody tr th {\n",
       "        vertical-align: top;\n",
       "    }\n",
       "\n",
       "    .dataframe thead th {\n",
       "        text-align: right;\n",
       "    }\n",
       "</style>\n",
       "<table border=\"1\" class=\"dataframe\">\n",
       "  <thead>\n",
       "    <tr style=\"text-align: right;\">\n",
       "      <th></th>\n",
       "      <th>Territory</th>\n",
       "      <th>unoccupied conventional dwellings</th>\n",
       "      <th>all items</th>\n",
       "      <th>occupied convetional dwellings</th>\n",
       "    </tr>\n",
       "  </thead>\n",
       "  <tbody>\n",
       "    <tr>\n",
       "      <th>98</th>\n",
       "      <td>Mantova</td>\n",
       "      <td>24496</td>\n",
       "      <td>188049</td>\n",
       "      <td>163553</td>\n",
       "    </tr>\n",
       "    <tr>\n",
       "      <th>55</th>\n",
       "      <td>Grosseto</td>\n",
       "      <td>53361</td>\n",
       "      <td>151005</td>\n",
       "      <td>97644</td>\n",
       "    </tr>\n",
       "    <tr>\n",
       "      <th>79</th>\n",
       "      <td>Massa-Carrara</td>\n",
       "      <td>35708</td>\n",
       "      <td>120462</td>\n",
       "      <td>84754</td>\n",
       "    </tr>\n",
       "  </tbody>\n",
       "</table>\n",
       "</div>"
      ],
      "text/plain": [
       "        Territory  unoccupied conventional dwellings  all items  \\\n",
       "98        Mantova                              24496     188049   \n",
       "55       Grosseto                              53361     151005   \n",
       "79  Massa-Carrara                              35708     120462   \n",
       "\n",
       "    occupied convetional dwellings  \n",
       "98                          163553  \n",
       "55                           97644  \n",
       "79                           84754  "
      ]
     },
     "execution_count": 9,
     "metadata": {},
     "output_type": "execute_result"
    }
   ],
   "source": [
    "df_2011 = df_2011.drop(columns=['occupied conventional dwellings by at least one resident person', 'occupied conventional dwellings by not resident people'])\n",
    "df_2011.sample(3)"
   ]
  },
  {
   "cell_type": "code",
   "execution_count": 10,
   "id": "e8f364fb-48f2-48d2-a5f6-0b41e07d907c",
   "metadata": {},
   "outputs": [
    {
     "data": {
      "text/html": [
       "<div>\n",
       "<style scoped>\n",
       "    .dataframe tbody tr th:only-of-type {\n",
       "        vertical-align: middle;\n",
       "    }\n",
       "\n",
       "    .dataframe tbody tr th {\n",
       "        vertical-align: top;\n",
       "    }\n",
       "\n",
       "    .dataframe thead th {\n",
       "        text-align: right;\n",
       "    }\n",
       "</style>\n",
       "<table border=\"1\" class=\"dataframe\">\n",
       "  <thead>\n",
       "    <tr style=\"text-align: right;\">\n",
       "      <th></th>\n",
       "      <th>Territory</th>\n",
       "      <th>unoccupied conventional dwellings</th>\n",
       "      <th>conventional dwellings</th>\n",
       "      <th>occupied convetional dwellings</th>\n",
       "    </tr>\n",
       "  </thead>\n",
       "  <tbody>\n",
       "    <tr>\n",
       "      <th>80</th>\n",
       "      <td>Benevento</td>\n",
       "      <td>35155</td>\n",
       "      <td>143610</td>\n",
       "      <td>108455</td>\n",
       "    </tr>\n",
       "    <tr>\n",
       "      <th>108</th>\n",
       "      <td>Lodi</td>\n",
       "      <td>10407</td>\n",
       "      <td>102545</td>\n",
       "      <td>92138</td>\n",
       "    </tr>\n",
       "    <tr>\n",
       "      <th>22</th>\n",
       "      <td>Caserta</td>\n",
       "      <td>88609</td>\n",
       "      <td>407899</td>\n",
       "      <td>319290</td>\n",
       "    </tr>\n",
       "  </tbody>\n",
       "</table>\n",
       "</div>"
      ],
      "text/plain": [
       "     Territory  unoccupied conventional dwellings  conventional dwellings  \\\n",
       "80   Benevento                              35155                  143610   \n",
       "108       Lodi                              10407                  102545   \n",
       "22     Caserta                              88609                  407899   \n",
       "\n",
       "     occupied convetional dwellings  \n",
       "80                           108455  \n",
       "108                           92138  \n",
       "22                           319290  "
      ]
     },
     "execution_count": 10,
     "metadata": {},
     "output_type": "execute_result"
    }
   ],
   "source": [
    "df_2011 = df_2011.rename(columns={'all items': 'conventional dwellings'})\n",
    "df_2011.sample(3)"
   ]
  },
  {
   "cell_type": "markdown",
   "id": "bc0f5a16-3a31-4a94-94e1-b66321ac676c",
   "metadata": {},
   "source": [
    "## Add label for year in columns"
   ]
  },
  {
   "cell_type": "code",
   "execution_count": 11,
   "id": "a2194082-d2ec-483d-8bb4-26af3a0f851e",
   "metadata": {},
   "outputs": [
    {
     "data": {
      "text/html": [
       "<div>\n",
       "<style scoped>\n",
       "    .dataframe tbody tr th:only-of-type {\n",
       "        vertical-align: middle;\n",
       "    }\n",
       "\n",
       "    .dataframe tbody tr th {\n",
       "        vertical-align: top;\n",
       "    }\n",
       "\n",
       "    .dataframe thead th {\n",
       "        text-align: right;\n",
       "    }\n",
       "</style>\n",
       "<table border=\"1\" class=\"dataframe\">\n",
       "  <thead>\n",
       "    <tr style=\"text-align: right;\">\n",
       "      <th></th>\n",
       "      <th>Territory</th>\n",
       "      <th>2011 unoccupied conventional dwellings</th>\n",
       "      <th>2011 conventional dwellings</th>\n",
       "      <th>2011 occupied convetional dwellings</th>\n",
       "    </tr>\n",
       "  </thead>\n",
       "  <tbody>\n",
       "    <tr>\n",
       "      <th>37</th>\n",
       "      <td>Frosinone</td>\n",
       "      <td>68658</td>\n",
       "      <td>258974</td>\n",
       "      <td>190316</td>\n",
       "    </tr>\n",
       "    <tr>\n",
       "      <th>87</th>\n",
       "      <td>Asti</td>\n",
       "      <td>30241</td>\n",
       "      <td>124565</td>\n",
       "      <td>94324</td>\n",
       "    </tr>\n",
       "    <tr>\n",
       "      <th>22</th>\n",
       "      <td>Caserta</td>\n",
       "      <td>88609</td>\n",
       "      <td>407899</td>\n",
       "      <td>319290</td>\n",
       "    </tr>\n",
       "  </tbody>\n",
       "</table>\n",
       "</div>"
      ],
      "text/plain": [
       "    Territory  2011 unoccupied conventional dwellings  \\\n",
       "37  Frosinone                                   68658   \n",
       "87       Asti                                   30241   \n",
       "22    Caserta                                   88609   \n",
       "\n",
       "    2011 conventional dwellings  2011 occupied convetional dwellings  \n",
       "37                       258974                               190316  \n",
       "87                       124565                                94324  \n",
       "22                       407899                               319290  "
      ]
     },
     "execution_count": 11,
     "metadata": {},
     "output_type": "execute_result"
    }
   ],
   "source": [
    "for col in df_2011.columns:\n",
    "    if col != \"Territory\":\n",
    "        df_2011 = df_2011.rename(columns={col: \"2011 \"+col})\n",
    "df_2011.sample(3)"
   ]
  },
  {
   "cell_type": "code",
   "execution_count": 12,
   "id": "271881c7-d541-485d-a294-8f72cffb57d9",
   "metadata": {},
   "outputs": [
    {
     "data": {
      "text/html": [
       "<div>\n",
       "<style scoped>\n",
       "    .dataframe tbody tr th:only-of-type {\n",
       "        vertical-align: middle;\n",
       "    }\n",
       "\n",
       "    .dataframe tbody tr th {\n",
       "        vertical-align: top;\n",
       "    }\n",
       "\n",
       "    .dataframe thead th {\n",
       "        text-align: right;\n",
       "    }\n",
       "</style>\n",
       "<table border=\"1\" class=\"dataframe\">\n",
       "  <thead>\n",
       "    <tr style=\"text-align: right;\">\n",
       "      <th></th>\n",
       "      <th>Territory</th>\n",
       "      <th>2019 occupied conventional dwellings</th>\n",
       "      <th>2019 unoccupied conventional dwellings</th>\n",
       "      <th>2019 conventional dwellings</th>\n",
       "    </tr>\n",
       "  </thead>\n",
       "  <tbody>\n",
       "    <tr>\n",
       "      <th>73</th>\n",
       "      <td>Campobasso</td>\n",
       "      <td>92176</td>\n",
       "      <td>76893</td>\n",
       "      <td>169069</td>\n",
       "    </tr>\n",
       "    <tr>\n",
       "      <th>38</th>\n",
       "      <td>Piacenza</td>\n",
       "      <td>128281</td>\n",
       "      <td>59876</td>\n",
       "      <td>188157</td>\n",
       "    </tr>\n",
       "    <tr>\n",
       "      <th>36</th>\n",
       "      <td>Trieste</td>\n",
       "      <td>115575</td>\n",
       "      <td>29428</td>\n",
       "      <td>145003</td>\n",
       "    </tr>\n",
       "  </tbody>\n",
       "</table>\n",
       "</div>"
      ],
      "text/plain": [
       "     Territory  2019 occupied conventional dwellings  \\\n",
       "73  Campobasso                                 92176   \n",
       "38    Piacenza                                128281   \n",
       "36     Trieste                                115575   \n",
       "\n",
       "    2019 unoccupied conventional dwellings  2019 conventional dwellings  \n",
       "73                                   76893                       169069  \n",
       "38                                   59876                       188157  \n",
       "36                                   29428                       145003  "
      ]
     },
     "execution_count": 12,
     "metadata": {},
     "output_type": "execute_result"
    }
   ],
   "source": [
    "for col in df_2019.columns:\n",
    "    if col != \"Territory\":\n",
    "        df_2019 = df_2019.rename(columns={col: \"2019 \"+col})\n",
    "df_2019.sample(3)"
   ]
  },
  {
   "cell_type": "markdown",
   "id": "45f55807-85c2-4ebb-a11a-f278a4e8574e",
   "metadata": {},
   "source": [
    "## Merge"
   ]
  },
  {
   "cell_type": "code",
   "execution_count": 13,
   "id": "48327679-a8f8-4a83-a216-40b296555ac6",
   "metadata": {},
   "outputs": [],
   "source": [
    "df_merged = pd.merge(df_2011, df_2019, left_on=\"Territory\", right_on=\"Territory\", how=\"inner\") "
   ]
  },
  {
   "cell_type": "code",
   "execution_count": 14,
   "id": "8af13515-69ab-4054-ae1d-0e93dca2d392",
   "metadata": {},
   "outputs": [
    {
     "data": {
      "text/html": [
       "<div>\n",
       "<style scoped>\n",
       "    .dataframe tbody tr th:only-of-type {\n",
       "        vertical-align: middle;\n",
       "    }\n",
       "\n",
       "    .dataframe tbody tr th {\n",
       "        vertical-align: top;\n",
       "    }\n",
       "\n",
       "    .dataframe thead th {\n",
       "        text-align: right;\n",
       "    }\n",
       "</style>\n",
       "<table border=\"1\" class=\"dataframe\">\n",
       "  <thead>\n",
       "    <tr style=\"text-align: right;\">\n",
       "      <th></th>\n",
       "      <th>Territory</th>\n",
       "      <th>2011 unoccupied conventional dwellings</th>\n",
       "      <th>2011 conventional dwellings</th>\n",
       "      <th>2011 occupied convetional dwellings</th>\n",
       "      <th>2019 occupied conventional dwellings</th>\n",
       "      <th>2019 unoccupied conventional dwellings</th>\n",
       "      <th>2019 conventional dwellings</th>\n",
       "    </tr>\n",
       "  </thead>\n",
       "  <tbody>\n",
       "    <tr>\n",
       "      <th>91</th>\n",
       "      <td>Oristano</td>\n",
       "      <td>26537</td>\n",
       "      <td>91572</td>\n",
       "      <td>65035</td>\n",
       "      <td>66870</td>\n",
       "      <td>38828</td>\n",
       "      <td>105698</td>\n",
       "    </tr>\n",
       "    <tr>\n",
       "      <th>88</th>\n",
       "      <td>Novara</td>\n",
       "      <td>28397</td>\n",
       "      <td>184592</td>\n",
       "      <td>156195</td>\n",
       "      <td>159604</td>\n",
       "      <td>60204</td>\n",
       "      <td>219808</td>\n",
       "    </tr>\n",
       "    <tr>\n",
       "      <th>63</th>\n",
       "      <td>Padova</td>\n",
       "      <td>45551</td>\n",
       "      <td>410443</td>\n",
       "      <td>364892</td>\n",
       "      <td>386498</td>\n",
       "      <td>81410</td>\n",
       "      <td>467908</td>\n",
       "    </tr>\n",
       "  </tbody>\n",
       "</table>\n",
       "</div>"
      ],
      "text/plain": [
       "   Territory  2011 unoccupied conventional dwellings  \\\n",
       "91  Oristano                                   26537   \n",
       "88    Novara                                   28397   \n",
       "63    Padova                                   45551   \n",
       "\n",
       "    2011 conventional dwellings  2011 occupied convetional dwellings  \\\n",
       "91                        91572                                65035   \n",
       "88                       184592                               156195   \n",
       "63                       410443                               364892   \n",
       "\n",
       "    2019 occupied conventional dwellings  \\\n",
       "91                                 66870   \n",
       "88                                159604   \n",
       "63                                386498   \n",
       "\n",
       "    2019 unoccupied conventional dwellings  2019 conventional dwellings  \n",
       "91                                   38828                       105698  \n",
       "88                                   60204                       219808  \n",
       "63                                   81410                       467908  "
      ]
     },
     "execution_count": 14,
     "metadata": {},
     "output_type": "execute_result"
    }
   ],
   "source": [
    "df_merged.sample(3)"
   ]
  },
  {
   "cell_type": "code",
   "execution_count": 15,
   "id": "3d38dd0c-390b-4080-9d92-89dc229225c5",
   "metadata": {},
   "outputs": [
    {
     "data": {
      "text/plain": [
       "105"
      ]
     },
     "execution_count": 15,
     "metadata": {},
     "output_type": "execute_result"
    }
   ],
   "source": [
    "len(df_merged)"
   ]
  },
  {
   "cell_type": "markdown",
   "id": "ac1a5e35-3e1d-4fd2-af62-7ee8bf8e01a8",
   "metadata": {},
   "source": [
    "Some rows are missed in the inner merging"
   ]
  },
  {
   "cell_type": "code",
   "execution_count": 16,
   "id": "a3a6f6a7-b3af-49ba-8765-5961f8ce75fc",
   "metadata": {},
   "outputs": [
    {
     "data": {
      "text/html": [
       "<div>\n",
       "<style scoped>\n",
       "    .dataframe tbody tr th:only-of-type {\n",
       "        vertical-align: middle;\n",
       "    }\n",
       "\n",
       "    .dataframe tbody tr th {\n",
       "        vertical-align: top;\n",
       "    }\n",
       "\n",
       "    .dataframe thead th {\n",
       "        text-align: right;\n",
       "    }\n",
       "</style>\n",
       "<table border=\"1\" class=\"dataframe\">\n",
       "  <thead>\n",
       "    <tr style=\"text-align: right;\">\n",
       "      <th></th>\n",
       "      <th>Territory</th>\n",
       "      <th>2011 unoccupied conventional dwellings</th>\n",
       "      <th>2011 conventional dwellings</th>\n",
       "      <th>2011 occupied convetional dwellings</th>\n",
       "      <th>2019 occupied conventional dwellings</th>\n",
       "      <th>2019 unoccupied conventional dwellings</th>\n",
       "      <th>2019 conventional dwellings</th>\n",
       "      <th>_merge</th>\n",
       "    </tr>\n",
       "  </thead>\n",
       "  <tbody>\n",
       "    <tr>\n",
       "      <th>97</th>\n",
       "      <td>Terni</td>\n",
       "      <td>25096.0</td>\n",
       "      <td>121935.0</td>\n",
       "      <td>96839.0</td>\n",
       "      <td>99656.0</td>\n",
       "      <td>38466.0</td>\n",
       "      <td>138122.0</td>\n",
       "      <td>both</td>\n",
       "    </tr>\n",
       "    <tr>\n",
       "      <th>48</th>\n",
       "      <td>Aosta</td>\n",
       "      <td>58731.0</td>\n",
       "      <td>117293.0</td>\n",
       "      <td>58562.0</td>\n",
       "      <td>NaN</td>\n",
       "      <td>NaN</td>\n",
       "      <td>NaN</td>\n",
       "      <td>left_only</td>\n",
       "    </tr>\n",
       "    <tr>\n",
       "      <th>74</th>\n",
       "      <td>Verbano-Cusio-Ossola</td>\n",
       "      <td>39210.0</td>\n",
       "      <td>110965.0</td>\n",
       "      <td>71755.0</td>\n",
       "      <td>72188.0</td>\n",
       "      <td>72433.0</td>\n",
       "      <td>144621.0</td>\n",
       "      <td>both</td>\n",
       "    </tr>\n",
       "  </tbody>\n",
       "</table>\n",
       "</div>"
      ],
      "text/plain": [
       "               Territory  2011 unoccupied conventional dwellings  \\\n",
       "97                 Terni                                 25096.0   \n",
       "48                 Aosta                                 58731.0   \n",
       "74  Verbano-Cusio-Ossola                                 39210.0   \n",
       "\n",
       "    2011 conventional dwellings  2011 occupied convetional dwellings  \\\n",
       "97                     121935.0                              96839.0   \n",
       "48                     117293.0                              58562.0   \n",
       "74                     110965.0                              71755.0   \n",
       "\n",
       "    2019 occupied conventional dwellings  \\\n",
       "97                               99656.0   \n",
       "48                                   NaN   \n",
       "74                               72188.0   \n",
       "\n",
       "    2019 unoccupied conventional dwellings  2019 conventional dwellings  \\\n",
       "97                                 38466.0                     138122.0   \n",
       "48                                     NaN                          NaN   \n",
       "74                                 72433.0                     144621.0   \n",
       "\n",
       "       _merge  \n",
       "97       both  \n",
       "48  left_only  \n",
       "74       both  "
      ]
     },
     "execution_count": 16,
     "metadata": {},
     "output_type": "execute_result"
    }
   ],
   "source": [
    "df_outer_merged= pd.merge(df_2011, df_2019, left_on=\"Territory\", right_on=\"Territory\", how=\"outer\", indicator=True)\n",
    "df_outer_merged.sample(3)"
   ]
  },
  {
   "cell_type": "code",
   "execution_count": 17,
   "id": "0ddb6234-1351-4a41-811d-d6016df01f7c",
   "metadata": {},
   "outputs": [
    {
     "data": {
      "text/html": [
       "<div>\n",
       "<style scoped>\n",
       "    .dataframe tbody tr th:only-of-type {\n",
       "        vertical-align: middle;\n",
       "    }\n",
       "\n",
       "    .dataframe tbody tr th {\n",
       "        vertical-align: top;\n",
       "    }\n",
       "\n",
       "    .dataframe thead th {\n",
       "        text-align: right;\n",
       "    }\n",
       "</style>\n",
       "<table border=\"1\" class=\"dataframe\">\n",
       "  <thead>\n",
       "    <tr style=\"text-align: right;\">\n",
       "      <th></th>\n",
       "      <th>Territory</th>\n",
       "      <th>2011 unoccupied conventional dwellings</th>\n",
       "      <th>2011 conventional dwellings</th>\n",
       "      <th>2011 occupied convetional dwellings</th>\n",
       "      <th>2019 occupied conventional dwellings</th>\n",
       "      <th>2019 unoccupied conventional dwellings</th>\n",
       "      <th>2019 conventional dwellings</th>\n",
       "      <th>_merge</th>\n",
       "    </tr>\n",
       "  </thead>\n",
       "  <tbody>\n",
       "    <tr>\n",
       "      <th>35</th>\n",
       "      <td>Olbia-Tempio</td>\n",
       "      <td>71614.0</td>\n",
       "      <td>135418.0</td>\n",
       "      <td>63804.0</td>\n",
       "      <td>NaN</td>\n",
       "      <td>NaN</td>\n",
       "      <td>NaN</td>\n",
       "      <td>left_only</td>\n",
       "    </tr>\n",
       "    <tr>\n",
       "      <th>48</th>\n",
       "      <td>Aosta</td>\n",
       "      <td>58731.0</td>\n",
       "      <td>117293.0</td>\n",
       "      <td>58562.0</td>\n",
       "      <td>NaN</td>\n",
       "      <td>NaN</td>\n",
       "      <td>NaN</td>\n",
       "      <td>left_only</td>\n",
       "    </tr>\n",
       "    <tr>\n",
       "      <th>103</th>\n",
       "      <td>Carbonia-Iglesias</td>\n",
       "      <td>18913.0</td>\n",
       "      <td>70947.0</td>\n",
       "      <td>52034.0</td>\n",
       "      <td>NaN</td>\n",
       "      <td>NaN</td>\n",
       "      <td>NaN</td>\n",
       "      <td>left_only</td>\n",
       "    </tr>\n",
       "    <tr>\n",
       "      <th>105</th>\n",
       "      <td>Ogliastra</td>\n",
       "      <td>14652.0</td>\n",
       "      <td>38973.0</td>\n",
       "      <td>24321.0</td>\n",
       "      <td>NaN</td>\n",
       "      <td>NaN</td>\n",
       "      <td>NaN</td>\n",
       "      <td>left_only</td>\n",
       "    </tr>\n",
       "    <tr>\n",
       "      <th>109</th>\n",
       "      <td>Medio Campidano</td>\n",
       "      <td>9971.0</td>\n",
       "      <td>48919.0</td>\n",
       "      <td>38948.0</td>\n",
       "      <td>NaN</td>\n",
       "      <td>NaN</td>\n",
       "      <td>NaN</td>\n",
       "      <td>left_only</td>\n",
       "    </tr>\n",
       "    <tr>\n",
       "      <th>110</th>\n",
       "      <td>Valle d'Aosta / Vallée d'Aoste</td>\n",
       "      <td>NaN</td>\n",
       "      <td>NaN</td>\n",
       "      <td>NaN</td>\n",
       "      <td>59736.0</td>\n",
       "      <td>78317.0</td>\n",
       "      <td>138053.0</td>\n",
       "      <td>right_only</td>\n",
       "    </tr>\n",
       "    <tr>\n",
       "      <th>111</th>\n",
       "      <td>Sud Sardegna</td>\n",
       "      <td>NaN</td>\n",
       "      <td>NaN</td>\n",
       "      <td>NaN</td>\n",
       "      <td>148036.0</td>\n",
       "      <td>74562.0</td>\n",
       "      <td>222598.0</td>\n",
       "      <td>right_only</td>\n",
       "    </tr>\n",
       "  </tbody>\n",
       "</table>\n",
       "</div>"
      ],
      "text/plain": [
       "                          Territory  2011 unoccupied conventional dwellings  \\\n",
       "35                     Olbia-Tempio                                 71614.0   \n",
       "48                            Aosta                                 58731.0   \n",
       "103               Carbonia-Iglesias                                 18913.0   \n",
       "105                       Ogliastra                                 14652.0   \n",
       "109                 Medio Campidano                                  9971.0   \n",
       "110  Valle d'Aosta / Vallée d'Aoste                                     NaN   \n",
       "111                    Sud Sardegna                                     NaN   \n",
       "\n",
       "     2011 conventional dwellings  2011 occupied convetional dwellings  \\\n",
       "35                      135418.0                              63804.0   \n",
       "48                      117293.0                              58562.0   \n",
       "103                      70947.0                              52034.0   \n",
       "105                      38973.0                              24321.0   \n",
       "109                      48919.0                              38948.0   \n",
       "110                          NaN                                  NaN   \n",
       "111                          NaN                                  NaN   \n",
       "\n",
       "     2019 occupied conventional dwellings  \\\n",
       "35                                    NaN   \n",
       "48                                    NaN   \n",
       "103                                   NaN   \n",
       "105                                   NaN   \n",
       "109                                   NaN   \n",
       "110                               59736.0   \n",
       "111                              148036.0   \n",
       "\n",
       "     2019 unoccupied conventional dwellings  2019 conventional dwellings  \\\n",
       "35                                      NaN                          NaN   \n",
       "48                                      NaN                          NaN   \n",
       "103                                     NaN                          NaN   \n",
       "105                                     NaN                          NaN   \n",
       "109                                     NaN                          NaN   \n",
       "110                                 78317.0                     138053.0   \n",
       "111                                 74562.0                     222598.0   \n",
       "\n",
       "         _merge  \n",
       "35    left_only  \n",
       "48    left_only  \n",
       "103   left_only  \n",
       "105   left_only  \n",
       "109   left_only  \n",
       "110  right_only  \n",
       "111  right_only  "
      ]
     },
     "execution_count": 17,
     "metadata": {},
     "output_type": "execute_result"
    }
   ],
   "source": [
    "unmerged = df_outer_merged[df_outer_merged[\"_merge\"] != \"both\"]\n",
    "unmerged"
   ]
  },
  {
   "cell_type": "markdown",
   "id": "5e6d56f7-bf2f-445e-be20-58a885c2f070",
   "metadata": {},
   "source": [
    "### Correct mismathching rows"
   ]
  },
  {
   "cell_type": "markdown",
   "id": "7182495a-b287-4107-abc5-4190926ef28a",
   "metadata": {},
   "source": [
    "#### *Aosta* and *Valle d'Aosta / Vallée d'Aoste* need to be renamed *Valle d'Aosta*"
   ]
  },
  {
   "cell_type": "code",
   "execution_count": 18,
   "id": "044ba2bb-3824-43aa-8a43-cd27d58418c3",
   "metadata": {},
   "outputs": [
    {
     "data": {
      "text/html": [
       "<div>\n",
       "<style scoped>\n",
       "    .dataframe tbody tr th:only-of-type {\n",
       "        vertical-align: middle;\n",
       "    }\n",
       "\n",
       "    .dataframe tbody tr th {\n",
       "        vertical-align: top;\n",
       "    }\n",
       "\n",
       "    .dataframe thead th {\n",
       "        text-align: right;\n",
       "    }\n",
       "</style>\n",
       "<table border=\"1\" class=\"dataframe\">\n",
       "  <thead>\n",
       "    <tr style=\"text-align: right;\">\n",
       "      <th></th>\n",
       "      <th>Territory</th>\n",
       "      <th>2011 unoccupied conventional dwellings</th>\n",
       "      <th>2011 conventional dwellings</th>\n",
       "      <th>2011 occupied convetional dwellings</th>\n",
       "    </tr>\n",
       "  </thead>\n",
       "  <tbody>\n",
       "    <tr>\n",
       "      <th>48</th>\n",
       "      <td>Aosta</td>\n",
       "      <td>58731</td>\n",
       "      <td>117293</td>\n",
       "      <td>58562</td>\n",
       "    </tr>\n",
       "  </tbody>\n",
       "</table>\n",
       "</div>"
      ],
      "text/plain": [
       "   Territory  2011 unoccupied conventional dwellings  \\\n",
       "48     Aosta                                   58731   \n",
       "\n",
       "    2011 conventional dwellings  2011 occupied convetional dwellings  \n",
       "48                       117293                                58562  "
      ]
     },
     "execution_count": 18,
     "metadata": {},
     "output_type": "execute_result"
    }
   ],
   "source": [
    "df_2011[df_2011[\"Territory\"]==\"Aosta\"]"
   ]
  },
  {
   "cell_type": "code",
   "execution_count": 19,
   "id": "853c3919-81fa-47fd-8bb9-755f8329cf2a",
   "metadata": {},
   "outputs": [
    {
     "data": {
      "text/plain": [
       "Territory                                 Valle d'Aosta\n",
       "2011 unoccupied conventional dwellings            58731\n",
       "2011 conventional dwellings                      117293\n",
       "2011 occupied convetional dwellings               58562\n",
       "Name: 48, dtype: object"
      ]
     },
     "execution_count": 19,
     "metadata": {},
     "output_type": "execute_result"
    }
   ],
   "source": [
    "df_2011.at[48, \"Territory\"]=\"Valle d'Aosta\"\n",
    "df_2011.loc[48,:]"
   ]
  },
  {
   "cell_type": "code",
   "execution_count": 20,
   "id": "f8f5e315-7b2f-40b4-af0a-56943691907f",
   "metadata": {},
   "outputs": [
    {
     "data": {
      "text/html": [
       "<div>\n",
       "<style scoped>\n",
       "    .dataframe tbody tr th:only-of-type {\n",
       "        vertical-align: middle;\n",
       "    }\n",
       "\n",
       "    .dataframe tbody tr th {\n",
       "        vertical-align: top;\n",
       "    }\n",
       "\n",
       "    .dataframe thead th {\n",
       "        text-align: right;\n",
       "    }\n",
       "</style>\n",
       "<table border=\"1\" class=\"dataframe\">\n",
       "  <thead>\n",
       "    <tr style=\"text-align: right;\">\n",
       "      <th></th>\n",
       "      <th>Territory</th>\n",
       "      <th>2019 occupied conventional dwellings</th>\n",
       "      <th>2019 unoccupied conventional dwellings</th>\n",
       "      <th>2019 conventional dwellings</th>\n",
       "    </tr>\n",
       "  </thead>\n",
       "  <tbody>\n",
       "    <tr>\n",
       "      <th>8</th>\n",
       "      <td>Valle d'Aosta / Vallée d'Aoste</td>\n",
       "      <td>59736</td>\n",
       "      <td>78317</td>\n",
       "      <td>138053</td>\n",
       "    </tr>\n",
       "  </tbody>\n",
       "</table>\n",
       "</div>"
      ],
      "text/plain": [
       "                        Territory  2019 occupied conventional dwellings  \\\n",
       "8  Valle d'Aosta / Vallée d'Aoste                                 59736   \n",
       "\n",
       "   2019 unoccupied conventional dwellings  2019 conventional dwellings  \n",
       "8                                   78317                       138053  "
      ]
     },
     "execution_count": 20,
     "metadata": {},
     "output_type": "execute_result"
    }
   ],
   "source": [
    "df_2019[df_2019[\"Territory\"]==\"Valle d'Aosta / Vallée d'Aoste\"]"
   ]
  },
  {
   "cell_type": "code",
   "execution_count": 21,
   "id": "4a1e4351-417c-4905-9bb8-b48fb1133087",
   "metadata": {},
   "outputs": [
    {
     "data": {
      "text/plain": [
       "Territory                                 Valle d'Aosta\n",
       "2019 occupied conventional dwellings              59736\n",
       "2019 unoccupied conventional dwellings            78317\n",
       "2019 conventional dwellings                      138053\n",
       "Name: 8, dtype: object"
      ]
     },
     "execution_count": 21,
     "metadata": {},
     "output_type": "execute_result"
    }
   ],
   "source": [
    "df_2019.at[8, \"Territory\"]=\"Valle d'Aosta\"\n",
    "df_2019.loc[8,:]"
   ]
  },
  {
   "cell_type": "markdown",
   "id": "1dbab801-383e-4b05-8587-144c0502f442",
   "metadata": {},
   "source": [
    "#### *Carbonia-Iglesias* and *Medio Campidano* need to be joined in *Sud Sardegna*"
   ]
  },
  {
   "cell_type": "code",
   "execution_count": 22,
   "id": "3e460a04-c396-4345-b9cd-61f3294f4636",
   "metadata": {},
   "outputs": [
    {
     "data": {
      "text/html": [
       "<div>\n",
       "<style scoped>\n",
       "    .dataframe tbody tr th:only-of-type {\n",
       "        vertical-align: middle;\n",
       "    }\n",
       "\n",
       "    .dataframe tbody tr th {\n",
       "        vertical-align: top;\n",
       "    }\n",
       "\n",
       "    .dataframe thead th {\n",
       "        text-align: right;\n",
       "    }\n",
       "</style>\n",
       "<table border=\"1\" class=\"dataframe\">\n",
       "  <thead>\n",
       "    <tr style=\"text-align: right;\">\n",
       "      <th></th>\n",
       "      <th>Territory</th>\n",
       "      <th>2011 unoccupied conventional dwellings</th>\n",
       "      <th>2011 conventional dwellings</th>\n",
       "      <th>2011 occupied convetional dwellings</th>\n",
       "    </tr>\n",
       "  </thead>\n",
       "  <tbody>\n",
       "    <tr>\n",
       "      <th>109</th>\n",
       "      <td>Medio Campidano</td>\n",
       "      <td>9971</td>\n",
       "      <td>48919</td>\n",
       "      <td>38948</td>\n",
       "    </tr>\n",
       "  </tbody>\n",
       "</table>\n",
       "</div>"
      ],
      "text/plain": [
       "           Territory  2011 unoccupied conventional dwellings  \\\n",
       "109  Medio Campidano                                    9971   \n",
       "\n",
       "     2011 conventional dwellings  2011 occupied convetional dwellings  \n",
       "109                        48919                                38948  "
      ]
     },
     "execution_count": 22,
     "metadata": {},
     "output_type": "execute_result"
    }
   ],
   "source": [
    "df_2011[df_2011[\"Territory\"]==\"Medio Campidano\"]"
   ]
  },
  {
   "cell_type": "code",
   "execution_count": 23,
   "id": "e627137b-0d29-42d0-a97a-4a46ecb91303",
   "metadata": {},
   "outputs": [
    {
     "data": {
      "text/html": [
       "<div>\n",
       "<style scoped>\n",
       "    .dataframe tbody tr th:only-of-type {\n",
       "        vertical-align: middle;\n",
       "    }\n",
       "\n",
       "    .dataframe tbody tr th {\n",
       "        vertical-align: top;\n",
       "    }\n",
       "\n",
       "    .dataframe thead th {\n",
       "        text-align: right;\n",
       "    }\n",
       "</style>\n",
       "<table border=\"1\" class=\"dataframe\">\n",
       "  <thead>\n",
       "    <tr style=\"text-align: right;\">\n",
       "      <th></th>\n",
       "      <th>Territory</th>\n",
       "      <th>2011 unoccupied conventional dwellings</th>\n",
       "      <th>2011 conventional dwellings</th>\n",
       "      <th>2011 occupied convetional dwellings</th>\n",
       "    </tr>\n",
       "  </thead>\n",
       "  <tbody>\n",
       "    <tr>\n",
       "      <th>103</th>\n",
       "      <td>Carbonia-Iglesias</td>\n",
       "      <td>18913</td>\n",
       "      <td>70947</td>\n",
       "      <td>52034</td>\n",
       "    </tr>\n",
       "  </tbody>\n",
       "</table>\n",
       "</div>"
      ],
      "text/plain": [
       "             Territory  2011 unoccupied conventional dwellings  \\\n",
       "103  Carbonia-Iglesias                                   18913   \n",
       "\n",
       "     2011 conventional dwellings  2011 occupied convetional dwellings  \n",
       "103                        70947                                52034  "
      ]
     },
     "execution_count": 23,
     "metadata": {},
     "output_type": "execute_result"
    }
   ],
   "source": [
    "df_2011[df_2011[\"Territory\"]==\"Carbonia-Iglesias\"]"
   ]
  },
  {
   "cell_type": "code",
   "execution_count": 24,
   "id": "a1ac6351-1509-4900-812a-fb1c04421fe4",
   "metadata": {},
   "outputs": [
    {
     "data": {
      "text/html": [
       "<div>\n",
       "<style scoped>\n",
       "    .dataframe tbody tr th:only-of-type {\n",
       "        vertical-align: middle;\n",
       "    }\n",
       "\n",
       "    .dataframe tbody tr th {\n",
       "        vertical-align: top;\n",
       "    }\n",
       "\n",
       "    .dataframe thead th {\n",
       "        text-align: right;\n",
       "    }\n",
       "</style>\n",
       "<table border=\"1\" class=\"dataframe\">\n",
       "  <thead>\n",
       "    <tr style=\"text-align: right;\">\n",
       "      <th></th>\n",
       "      <th>Territory</th>\n",
       "      <th>2011 unoccupied conventional dwellings</th>\n",
       "      <th>2011 conventional dwellings</th>\n",
       "      <th>2011 occupied convetional dwellings</th>\n",
       "    </tr>\n",
       "  </thead>\n",
       "  <tbody>\n",
       "    <tr>\n",
       "      <th>103</th>\n",
       "      <td>Carbonia-Iglesias</td>\n",
       "      <td>18913</td>\n",
       "      <td>70947</td>\n",
       "      <td>52034</td>\n",
       "    </tr>\n",
       "    <tr>\n",
       "      <th>109</th>\n",
       "      <td>Medio Campidano</td>\n",
       "      <td>9971</td>\n",
       "      <td>48919</td>\n",
       "      <td>38948</td>\n",
       "    </tr>\n",
       "  </tbody>\n",
       "</table>\n",
       "</div>"
      ],
      "text/plain": [
       "             Territory  2011 unoccupied conventional dwellings  \\\n",
       "103  Carbonia-Iglesias                                   18913   \n",
       "109    Medio Campidano                                    9971   \n",
       "\n",
       "     2011 conventional dwellings  2011 occupied convetional dwellings  \n",
       "103                        70947                                52034  \n",
       "109                        48919                                38948  "
      ]
     },
     "execution_count": 24,
     "metadata": {},
     "output_type": "execute_result"
    }
   ],
   "source": [
    "old_territories_to_join = pd.concat([df_2011[df_2011[\"Territory\"]==\"Carbonia-Iglesias\"], df_2011[df_2011[\"Territory\"]==\"Medio Campidano\"]])\n",
    "old_territories_to_join"
   ]
  },
  {
   "cell_type": "code",
   "execution_count": 25,
   "id": "cad57f1a-27a2-4b8d-95be-b669a2ee31ad",
   "metadata": {},
   "outputs": [
    {
     "data": {
      "text/html": [
       "<div>\n",
       "<style scoped>\n",
       "    .dataframe tbody tr th:only-of-type {\n",
       "        vertical-align: middle;\n",
       "    }\n",
       "\n",
       "    .dataframe tbody tr th {\n",
       "        vertical-align: top;\n",
       "    }\n",
       "\n",
       "    .dataframe thead th {\n",
       "        text-align: right;\n",
       "    }\n",
       "</style>\n",
       "<table border=\"1\" class=\"dataframe\">\n",
       "  <thead>\n",
       "    <tr style=\"text-align: right;\">\n",
       "      <th></th>\n",
       "      <th>Territory</th>\n",
       "      <th>2011 unoccupied conventional dwellings</th>\n",
       "      <th>2011 conventional dwellings</th>\n",
       "      <th>2011 occupied convetional dwellings</th>\n",
       "    </tr>\n",
       "  </thead>\n",
       "  <tbody>\n",
       "    <tr>\n",
       "      <th>0</th>\n",
       "      <td>Carbonia-IglesiasMedio Campidano</td>\n",
       "      <td>28884</td>\n",
       "      <td>119866</td>\n",
       "      <td>90982</td>\n",
       "    </tr>\n",
       "  </tbody>\n",
       "</table>\n",
       "</div>"
      ],
      "text/plain": [
       "                          Territory 2011 unoccupied conventional dwellings  \\\n",
       "0  Carbonia-IglesiasMedio Campidano                                  28884   \n",
       "\n",
       "  2011 conventional dwellings 2011 occupied convetional dwellings  \n",
       "0                      119866                               90982  "
      ]
     },
     "execution_count": 25,
     "metadata": {},
     "output_type": "execute_result"
    }
   ],
   "source": [
    "Sud_Sardegna_row = old_territories_to_join.sum().to_frame().transpose()\n",
    "Sud_Sardegna_row"
   ]
  },
  {
   "cell_type": "code",
   "execution_count": 26,
   "id": "43ef0dd3-4a8d-4285-a112-cdf59e2e405a",
   "metadata": {},
   "outputs": [
    {
     "data": {
      "text/html": [
       "<div>\n",
       "<style scoped>\n",
       "    .dataframe tbody tr th:only-of-type {\n",
       "        vertical-align: middle;\n",
       "    }\n",
       "\n",
       "    .dataframe tbody tr th {\n",
       "        vertical-align: top;\n",
       "    }\n",
       "\n",
       "    .dataframe thead th {\n",
       "        text-align: right;\n",
       "    }\n",
       "</style>\n",
       "<table border=\"1\" class=\"dataframe\">\n",
       "  <thead>\n",
       "    <tr style=\"text-align: right;\">\n",
       "      <th></th>\n",
       "      <th>Territory</th>\n",
       "      <th>2011 unoccupied conventional dwellings</th>\n",
       "      <th>2011 conventional dwellings</th>\n",
       "      <th>2011 occupied convetional dwellings</th>\n",
       "    </tr>\n",
       "  </thead>\n",
       "  <tbody>\n",
       "    <tr>\n",
       "      <th>0</th>\n",
       "      <td>Sud Sardegna</td>\n",
       "      <td>28884</td>\n",
       "      <td>119866</td>\n",
       "      <td>90982</td>\n",
       "    </tr>\n",
       "  </tbody>\n",
       "</table>\n",
       "</div>"
      ],
      "text/plain": [
       "      Territory 2011 unoccupied conventional dwellings  \\\n",
       "0  Sud Sardegna                                  28884   \n",
       "\n",
       "  2011 conventional dwellings 2011 occupied convetional dwellings  \n",
       "0                      119866                               90982  "
      ]
     },
     "execution_count": 26,
     "metadata": {},
     "output_type": "execute_result"
    }
   ],
   "source": [
    "Sud_Sardegna_row.at[0, \"Territory\"]=\"Sud Sardegna\"\n",
    "Sud_Sardegna_row"
   ]
  },
  {
   "cell_type": "code",
   "execution_count": 27,
   "id": "ac52cc10-d3b1-48c7-ba69-54eff439e3d2",
   "metadata": {},
   "outputs": [
    {
     "data": {
      "text/html": [
       "<div>\n",
       "<style scoped>\n",
       "    .dataframe tbody tr th:only-of-type {\n",
       "        vertical-align: middle;\n",
       "    }\n",
       "\n",
       "    .dataframe tbody tr th {\n",
       "        vertical-align: top;\n",
       "    }\n",
       "\n",
       "    .dataframe thead th {\n",
       "        text-align: right;\n",
       "    }\n",
       "</style>\n",
       "<table border=\"1\" class=\"dataframe\">\n",
       "  <thead>\n",
       "    <tr style=\"text-align: right;\">\n",
       "      <th></th>\n",
       "      <th>Territory</th>\n",
       "      <th>2011 unoccupied conventional dwellings</th>\n",
       "      <th>2011 conventional dwellings</th>\n",
       "      <th>2011 occupied convetional dwellings</th>\n",
       "    </tr>\n",
       "  </thead>\n",
       "  <tbody>\n",
       "    <tr>\n",
       "      <th>109</th>\n",
       "      <td>Medio Campidano</td>\n",
       "      <td>9971</td>\n",
       "      <td>48919</td>\n",
       "      <td>38948</td>\n",
       "    </tr>\n",
       "    <tr>\n",
       "      <th>110</th>\n",
       "      <td>Sud Sardegna</td>\n",
       "      <td>28884</td>\n",
       "      <td>119866</td>\n",
       "      <td>90982</td>\n",
       "    </tr>\n",
       "  </tbody>\n",
       "</table>\n",
       "</div>"
      ],
      "text/plain": [
       "           Territory 2011 unoccupied conventional dwellings  \\\n",
       "109  Medio Campidano                                   9971   \n",
       "110     Sud Sardegna                                  28884   \n",
       "\n",
       "    2011 conventional dwellings 2011 occupied convetional dwellings  \n",
       "109                       48919                               38948  \n",
       "110                      119866                               90982  "
      ]
     },
     "execution_count": 27,
     "metadata": {},
     "output_type": "execute_result"
    }
   ],
   "source": [
    "df_2011 = pd.concat([df_2011, Sud_Sardegna_row], ignore_index=True)\n",
    "df_2011.tail(2)"
   ]
  },
  {
   "cell_type": "code",
   "execution_count": 28,
   "id": "63b29b05-5dda-41ea-86a5-0bbb9262e6ef",
   "metadata": {},
   "outputs": [],
   "source": [
    "df_2011=df_2011.drop([103, 109])"
   ]
  },
  {
   "cell_type": "markdown",
   "id": "3b833d0b-a4be-4a4e-be1f-18b1e4d47308",
   "metadata": {},
   "source": [
    "#### *Nuoro* has to include also the sum of the values of *Ogliastra* and *Olbia-Tempio*"
   ]
  },
  {
   "cell_type": "code",
   "execution_count": 29,
   "id": "f6f495fb-b25b-4b0d-92cf-3f49fe06cde0",
   "metadata": {},
   "outputs": [
    {
     "data": {
      "text/html": [
       "<div>\n",
       "<style scoped>\n",
       "    .dataframe tbody tr th:only-of-type {\n",
       "        vertical-align: middle;\n",
       "    }\n",
       "\n",
       "    .dataframe tbody tr th {\n",
       "        vertical-align: top;\n",
       "    }\n",
       "\n",
       "    .dataframe thead th {\n",
       "        text-align: right;\n",
       "    }\n",
       "</style>\n",
       "<table border=\"1\" class=\"dataframe\">\n",
       "  <thead>\n",
       "    <tr style=\"text-align: right;\">\n",
       "      <th></th>\n",
       "      <th>Territory</th>\n",
       "      <th>2011 unoccupied conventional dwellings</th>\n",
       "      <th>2011 conventional dwellings</th>\n",
       "      <th>2011 occupied convetional dwellings</th>\n",
       "    </tr>\n",
       "  </thead>\n",
       "  <tbody>\n",
       "    <tr>\n",
       "      <th>96</th>\n",
       "      <td>Nuoro</td>\n",
       "      <td>25507</td>\n",
       "      <td>89592</td>\n",
       "      <td>64085</td>\n",
       "    </tr>\n",
       "  </tbody>\n",
       "</table>\n",
       "</div>"
      ],
      "text/plain": [
       "   Territory 2011 unoccupied conventional dwellings  \\\n",
       "96     Nuoro                                  25507   \n",
       "\n",
       "   2011 conventional dwellings 2011 occupied convetional dwellings  \n",
       "96                       89592                               64085  "
      ]
     },
     "execution_count": 29,
     "metadata": {},
     "output_type": "execute_result"
    }
   ],
   "source": [
    "df_2011[df_2011[\"Territory\"]==\"Nuoro\"]"
   ]
  },
  {
   "cell_type": "code",
   "execution_count": 30,
   "id": "ef93a1f6-cd26-4a71-a94b-d4b3cdcbf310",
   "metadata": {},
   "outputs": [
    {
     "data": {
      "text/html": [
       "<div>\n",
       "<style scoped>\n",
       "    .dataframe tbody tr th:only-of-type {\n",
       "        vertical-align: middle;\n",
       "    }\n",
       "\n",
       "    .dataframe tbody tr th {\n",
       "        vertical-align: top;\n",
       "    }\n",
       "\n",
       "    .dataframe thead th {\n",
       "        text-align: right;\n",
       "    }\n",
       "</style>\n",
       "<table border=\"1\" class=\"dataframe\">\n",
       "  <thead>\n",
       "    <tr style=\"text-align: right;\">\n",
       "      <th></th>\n",
       "      <th>Territory</th>\n",
       "      <th>2011 unoccupied conventional dwellings</th>\n",
       "      <th>2011 conventional dwellings</th>\n",
       "      <th>2011 occupied convetional dwellings</th>\n",
       "    </tr>\n",
       "  </thead>\n",
       "  <tbody>\n",
       "    <tr>\n",
       "      <th>35</th>\n",
       "      <td>Olbia-Tempio</td>\n",
       "      <td>71614</td>\n",
       "      <td>135418</td>\n",
       "      <td>63804</td>\n",
       "    </tr>\n",
       "  </tbody>\n",
       "</table>\n",
       "</div>"
      ],
      "text/plain": [
       "       Territory 2011 unoccupied conventional dwellings  \\\n",
       "35  Olbia-Tempio                                  71614   \n",
       "\n",
       "   2011 conventional dwellings 2011 occupied convetional dwellings  \n",
       "35                      135418                               63804  "
      ]
     },
     "execution_count": 30,
     "metadata": {},
     "output_type": "execute_result"
    }
   ],
   "source": [
    "df_2011[df_2011[\"Territory\"]==\"Olbia-Tempio\"]"
   ]
  },
  {
   "cell_type": "code",
   "execution_count": 31,
   "id": "be7ef166-206b-44e4-acb2-8db03df86d54",
   "metadata": {},
   "outputs": [
    {
     "data": {
      "text/html": [
       "<div>\n",
       "<style scoped>\n",
       "    .dataframe tbody tr th:only-of-type {\n",
       "        vertical-align: middle;\n",
       "    }\n",
       "\n",
       "    .dataframe tbody tr th {\n",
       "        vertical-align: top;\n",
       "    }\n",
       "\n",
       "    .dataframe thead th {\n",
       "        text-align: right;\n",
       "    }\n",
       "</style>\n",
       "<table border=\"1\" class=\"dataframe\">\n",
       "  <thead>\n",
       "    <tr style=\"text-align: right;\">\n",
       "      <th></th>\n",
       "      <th>Territory</th>\n",
       "      <th>2011 unoccupied conventional dwellings</th>\n",
       "      <th>2011 conventional dwellings</th>\n",
       "      <th>2011 occupied convetional dwellings</th>\n",
       "    </tr>\n",
       "  </thead>\n",
       "  <tbody>\n",
       "    <tr>\n",
       "      <th>105</th>\n",
       "      <td>Ogliastra</td>\n",
       "      <td>14652</td>\n",
       "      <td>38973</td>\n",
       "      <td>24321</td>\n",
       "    </tr>\n",
       "  </tbody>\n",
       "</table>\n",
       "</div>"
      ],
      "text/plain": [
       "     Territory 2011 unoccupied conventional dwellings  \\\n",
       "105  Ogliastra                                  14652   \n",
       "\n",
       "    2011 conventional dwellings 2011 occupied convetional dwellings  \n",
       "105                       38973                               24321  "
      ]
     },
     "execution_count": 31,
     "metadata": {},
     "output_type": "execute_result"
    }
   ],
   "source": [
    "df_2011[df_2011[\"Territory\"]==\"Ogliastra\"]"
   ]
  },
  {
   "cell_type": "code",
   "execution_count": 32,
   "id": "1fb04acf-67b6-4e8f-9a69-7100d5509871",
   "metadata": {},
   "outputs": [
    {
     "data": {
      "text/html": [
       "<div>\n",
       "<style scoped>\n",
       "    .dataframe tbody tr th:only-of-type {\n",
       "        vertical-align: middle;\n",
       "    }\n",
       "\n",
       "    .dataframe tbody tr th {\n",
       "        vertical-align: top;\n",
       "    }\n",
       "\n",
       "    .dataframe thead th {\n",
       "        text-align: right;\n",
       "    }\n",
       "</style>\n",
       "<table border=\"1\" class=\"dataframe\">\n",
       "  <thead>\n",
       "    <tr style=\"text-align: right;\">\n",
       "      <th></th>\n",
       "      <th>Territory</th>\n",
       "      <th>2011 unoccupied conventional dwellings</th>\n",
       "      <th>2011 conventional dwellings</th>\n",
       "      <th>2011 occupied convetional dwellings</th>\n",
       "    </tr>\n",
       "  </thead>\n",
       "  <tbody>\n",
       "    <tr>\n",
       "      <th>105</th>\n",
       "      <td>Ogliastra</td>\n",
       "      <td>14652</td>\n",
       "      <td>38973</td>\n",
       "      <td>24321</td>\n",
       "    </tr>\n",
       "    <tr>\n",
       "      <th>35</th>\n",
       "      <td>Olbia-Tempio</td>\n",
       "      <td>71614</td>\n",
       "      <td>135418</td>\n",
       "      <td>63804</td>\n",
       "    </tr>\n",
       "    <tr>\n",
       "      <th>96</th>\n",
       "      <td>Nuoro</td>\n",
       "      <td>25507</td>\n",
       "      <td>89592</td>\n",
       "      <td>64085</td>\n",
       "    </tr>\n",
       "  </tbody>\n",
       "</table>\n",
       "</div>"
      ],
      "text/plain": [
       "        Territory 2011 unoccupied conventional dwellings  \\\n",
       "105     Ogliastra                                  14652   \n",
       "35   Olbia-Tempio                                  71614   \n",
       "96          Nuoro                                  25507   \n",
       "\n",
       "    2011 conventional dwellings 2011 occupied convetional dwellings  \n",
       "105                       38973                               24321  \n",
       "35                       135418                               63804  \n",
       "96                        89592                               64085  "
      ]
     },
     "execution_count": 32,
     "metadata": {},
     "output_type": "execute_result"
    }
   ],
   "source": [
    "old_territories_to_merge = pd.concat([df_2011[df_2011[\"Territory\"]==\"Ogliastra\"], df_2011[df_2011[\"Territory\"]==\"Olbia-Tempio\"], df_2011[df_2011[\"Territory\"]==\"Nuoro\"]])\n",
    "old_territories_to_merge"
   ]
  },
  {
   "cell_type": "code",
   "execution_count": 33,
   "id": "aa5a870a-3e1a-4b35-8ed5-c74cceae9b6b",
   "metadata": {},
   "outputs": [
    {
     "data": {
      "text/html": [
       "<div>\n",
       "<style scoped>\n",
       "    .dataframe tbody tr th:only-of-type {\n",
       "        vertical-align: middle;\n",
       "    }\n",
       "\n",
       "    .dataframe tbody tr th {\n",
       "        vertical-align: top;\n",
       "    }\n",
       "\n",
       "    .dataframe thead th {\n",
       "        text-align: right;\n",
       "    }\n",
       "</style>\n",
       "<table border=\"1\" class=\"dataframe\">\n",
       "  <thead>\n",
       "    <tr style=\"text-align: right;\">\n",
       "      <th></th>\n",
       "      <th>Territory</th>\n",
       "      <th>2011 unoccupied conventional dwellings</th>\n",
       "      <th>2011 conventional dwellings</th>\n",
       "      <th>2011 occupied convetional dwellings</th>\n",
       "    </tr>\n",
       "  </thead>\n",
       "  <tbody>\n",
       "    <tr>\n",
       "      <th>0</th>\n",
       "      <td>OgliastraOlbia-TempioNuoro</td>\n",
       "      <td>111773</td>\n",
       "      <td>263983</td>\n",
       "      <td>152210</td>\n",
       "    </tr>\n",
       "  </tbody>\n",
       "</table>\n",
       "</div>"
      ],
      "text/plain": [
       "                    Territory 2011 unoccupied conventional dwellings  \\\n",
       "0  OgliastraOlbia-TempioNuoro                                 111773   \n",
       "\n",
       "  2011 conventional dwellings 2011 occupied convetional dwellings  \n",
       "0                      263983                              152210  "
      ]
     },
     "execution_count": 33,
     "metadata": {},
     "output_type": "execute_result"
    }
   ],
   "source": [
    "Nuoro_row = old_territories_to_merge.sum().to_frame().transpose()\n",
    "Nuoro_row"
   ]
  },
  {
   "cell_type": "code",
   "execution_count": 34,
   "id": "eb899ba9-3a5c-49c1-9b30-59c61d5603dd",
   "metadata": {},
   "outputs": [],
   "source": [
    "df_2011=df_2011.drop([35, 96, 105])"
   ]
  },
  {
   "cell_type": "code",
   "execution_count": 35,
   "id": "560db55b-848f-4b76-b6af-8cb8b20b52d9",
   "metadata": {},
   "outputs": [
    {
     "data": {
      "text/html": [
       "<div>\n",
       "<style scoped>\n",
       "    .dataframe tbody tr th:only-of-type {\n",
       "        vertical-align: middle;\n",
       "    }\n",
       "\n",
       "    .dataframe tbody tr th {\n",
       "        vertical-align: top;\n",
       "    }\n",
       "\n",
       "    .dataframe thead th {\n",
       "        text-align: right;\n",
       "    }\n",
       "</style>\n",
       "<table border=\"1\" class=\"dataframe\">\n",
       "  <thead>\n",
       "    <tr style=\"text-align: right;\">\n",
       "      <th></th>\n",
       "      <th>Territory</th>\n",
       "      <th>2011 unoccupied conventional dwellings</th>\n",
       "      <th>2011 conventional dwellings</th>\n",
       "      <th>2011 occupied convetional dwellings</th>\n",
       "    </tr>\n",
       "  </thead>\n",
       "  <tbody>\n",
       "    <tr>\n",
       "      <th>0</th>\n",
       "      <td>Nuoro</td>\n",
       "      <td>111773</td>\n",
       "      <td>263983</td>\n",
       "      <td>152210</td>\n",
       "    </tr>\n",
       "  </tbody>\n",
       "</table>\n",
       "</div>"
      ],
      "text/plain": [
       "  Territory 2011 unoccupied conventional dwellings  \\\n",
       "0     Nuoro                                 111773   \n",
       "\n",
       "  2011 conventional dwellings 2011 occupied convetional dwellings  \n",
       "0                      263983                              152210  "
      ]
     },
     "execution_count": 35,
     "metadata": {},
     "output_type": "execute_result"
    }
   ],
   "source": [
    "Nuoro_row.at[0, \"Territory\"]=\"Nuoro\"\n",
    "Nuoro_row"
   ]
  },
  {
   "cell_type": "code",
   "execution_count": 36,
   "id": "6a4de434-b896-4084-be33-8ac6569f4bc7",
   "metadata": {},
   "outputs": [
    {
     "data": {
      "text/html": [
       "<div>\n",
       "<style scoped>\n",
       "    .dataframe tbody tr th:only-of-type {\n",
       "        vertical-align: middle;\n",
       "    }\n",
       "\n",
       "    .dataframe tbody tr th {\n",
       "        vertical-align: top;\n",
       "    }\n",
       "\n",
       "    .dataframe thead th {\n",
       "        text-align: right;\n",
       "    }\n",
       "</style>\n",
       "<table border=\"1\" class=\"dataframe\">\n",
       "  <thead>\n",
       "    <tr style=\"text-align: right;\">\n",
       "      <th></th>\n",
       "      <th>Territory</th>\n",
       "      <th>2011 unoccupied conventional dwellings</th>\n",
       "      <th>2011 conventional dwellings</th>\n",
       "      <th>2011 occupied convetional dwellings</th>\n",
       "    </tr>\n",
       "  </thead>\n",
       "  <tbody>\n",
       "    <tr>\n",
       "      <th>105</th>\n",
       "      <td>Sud Sardegna</td>\n",
       "      <td>28884</td>\n",
       "      <td>119866</td>\n",
       "      <td>90982</td>\n",
       "    </tr>\n",
       "    <tr>\n",
       "      <th>106</th>\n",
       "      <td>Nuoro</td>\n",
       "      <td>111773</td>\n",
       "      <td>263983</td>\n",
       "      <td>152210</td>\n",
       "    </tr>\n",
       "  </tbody>\n",
       "</table>\n",
       "</div>"
      ],
      "text/plain": [
       "        Territory 2011 unoccupied conventional dwellings  \\\n",
       "105  Sud Sardegna                                  28884   \n",
       "106         Nuoro                                 111773   \n",
       "\n",
       "    2011 conventional dwellings 2011 occupied convetional dwellings  \n",
       "105                      119866                               90982  \n",
       "106                      263983                              152210  "
      ]
     },
     "execution_count": 36,
     "metadata": {},
     "output_type": "execute_result"
    }
   ],
   "source": [
    "df_2011 = pd.concat([df_2011, Nuoro_row], ignore_index=True)\n",
    "df_2011.tail(2)"
   ]
  },
  {
   "cell_type": "markdown",
   "id": "3537bb82-d239-4f01-85e3-a07136b807ec",
   "metadata": {},
   "source": [
    "## Datasets can now be merged"
   ]
  },
  {
   "cell_type": "code",
   "execution_count": 37,
   "id": "519b2ae2-1be3-483d-b46e-f6ec4cb392ed",
   "metadata": {},
   "outputs": [
    {
     "data": {
      "text/plain": [
       "True"
      ]
     },
     "execution_count": 37,
     "metadata": {},
     "output_type": "execute_result"
    }
   ],
   "source": [
    "len(df_2011)==len(df_2019) && len(df_2011)==107"
   ]
  },
  {
   "cell_type": "code",
   "execution_count": 38,
   "id": "b9277995-a061-444e-8b77-78ddfbbab96c",
   "metadata": {},
   "outputs": [
    {
     "data": {
      "text/html": [
       "<div>\n",
       "<style scoped>\n",
       "    .dataframe tbody tr th:only-of-type {\n",
       "        vertical-align: middle;\n",
       "    }\n",
       "\n",
       "    .dataframe tbody tr th {\n",
       "        vertical-align: top;\n",
       "    }\n",
       "\n",
       "    .dataframe thead th {\n",
       "        text-align: right;\n",
       "    }\n",
       "</style>\n",
       "<table border=\"1\" class=\"dataframe\">\n",
       "  <thead>\n",
       "    <tr style=\"text-align: right;\">\n",
       "      <th></th>\n",
       "      <th>Territory</th>\n",
       "      <th>2011 unoccupied conventional dwellings</th>\n",
       "      <th>2011 conventional dwellings</th>\n",
       "      <th>2011 occupied convetional dwellings</th>\n",
       "      <th>2019 occupied conventional dwellings</th>\n",
       "      <th>2019 unoccupied conventional dwellings</th>\n",
       "      <th>2019 conventional dwellings</th>\n",
       "      <th>_merge</th>\n",
       "    </tr>\n",
       "  </thead>\n",
       "  <tbody>\n",
       "  </tbody>\n",
       "</table>\n",
       "</div>"
      ],
      "text/plain": [
       "Empty DataFrame\n",
       "Columns: [Territory, 2011 unoccupied conventional dwellings, 2011 conventional dwellings, 2011 occupied convetional dwellings, 2019 occupied conventional dwellings, 2019 unoccupied conventional dwellings, 2019 conventional dwellings, _merge]\n",
       "Index: []"
      ]
     },
     "execution_count": 38,
     "metadata": {},
     "output_type": "execute_result"
    }
   ],
   "source": [
    "df_outer_merged= pd.merge(df_2011, df_2019, left_on=\"Territory\", right_on=\"Territory\", how=\"outer\", indicator=True)\n",
    "unmerged = df_outer_merged[df_outer_merged[\"_merge\"] != \"both\"]\n",
    "unmerged"
   ]
  },
  {
   "cell_type": "code",
   "execution_count": 39,
   "id": "a0eca6b8-3132-425f-9c9f-f5c447e90166",
   "metadata": {},
   "outputs": [
    {
     "data": {
      "text/html": [
       "<div>\n",
       "<style scoped>\n",
       "    .dataframe tbody tr th:only-of-type {\n",
       "        vertical-align: middle;\n",
       "    }\n",
       "\n",
       "    .dataframe tbody tr th {\n",
       "        vertical-align: top;\n",
       "    }\n",
       "\n",
       "    .dataframe thead th {\n",
       "        text-align: right;\n",
       "    }\n",
       "</style>\n",
       "<table border=\"1\" class=\"dataframe\">\n",
       "  <thead>\n",
       "    <tr style=\"text-align: right;\">\n",
       "      <th></th>\n",
       "      <th>Territory</th>\n",
       "      <th>2011 unoccupied conventional dwellings</th>\n",
       "      <th>2011 conventional dwellings</th>\n",
       "      <th>2011 occupied convetional dwellings</th>\n",
       "      <th>2019 occupied conventional dwellings</th>\n",
       "      <th>2019 unoccupied conventional dwellings</th>\n",
       "      <th>2019 conventional dwellings</th>\n",
       "    </tr>\n",
       "  </thead>\n",
       "  <tbody>\n",
       "    <tr>\n",
       "      <th>64</th>\n",
       "      <td>Padova</td>\n",
       "      <td>45551</td>\n",
       "      <td>410443</td>\n",
       "      <td>364892</td>\n",
       "      <td>386498</td>\n",
       "      <td>81410</td>\n",
       "      <td>467908</td>\n",
       "    </tr>\n",
       "    <tr>\n",
       "      <th>15</th>\n",
       "      <td>Salerno</td>\n",
       "      <td>108124</td>\n",
       "      <td>504320</td>\n",
       "      <td>396196</td>\n",
       "      <td>419213</td>\n",
       "      <td>201994</td>\n",
       "      <td>621207</td>\n",
       "    </tr>\n",
       "    <tr>\n",
       "      <th>77</th>\n",
       "      <td>Arezzo</td>\n",
       "      <td>36044</td>\n",
       "      <td>174615</td>\n",
       "      <td>138571</td>\n",
       "      <td>142824</td>\n",
       "      <td>52937</td>\n",
       "      <td>195761</td>\n",
       "    </tr>\n",
       "  </tbody>\n",
       "</table>\n",
       "</div>"
      ],
      "text/plain": [
       "   Territory 2011 unoccupied conventional dwellings  \\\n",
       "64    Padova                                  45551   \n",
       "15   Salerno                                 108124   \n",
       "77    Arezzo                                  36044   \n",
       "\n",
       "   2011 conventional dwellings 2011 occupied convetional dwellings  \\\n",
       "64                      410443                              364892   \n",
       "15                      504320                              396196   \n",
       "77                      174615                              138571   \n",
       "\n",
       "    2019 occupied conventional dwellings  \\\n",
       "64                                386498   \n",
       "15                                419213   \n",
       "77                                142824   \n",
       "\n",
       "    2019 unoccupied conventional dwellings  2019 conventional dwellings  \n",
       "64                                   81410                       467908  \n",
       "15                                  201994                       621207  \n",
       "77                                   52937                       195761  "
      ]
     },
     "execution_count": 39,
     "metadata": {},
     "output_type": "execute_result"
    }
   ],
   "source": [
    "df_merged = pd.merge(df_2011, df_2019, left_on=\"Territory\", right_on=\"Territory\", how=\"inner\") \n",
    "df_merged.sample(3)"
   ]
  },
  {
   "cell_type": "code",
   "execution_count": 40,
   "id": "8b1120ed-8f85-48ba-80d0-929fa79b5a6f",
   "metadata": {},
   "outputs": [],
   "source": [
    "df_merged.to_csv('data/2011-2019 dwellings by occupancy status.csv', index=False)"
   ]
  }
 ],
 "metadata": {
  "kernelspec": {
   "display_name": "Python 3 (ipykernel)",
   "language": "python",
   "name": "python3"
  },
  "language_info": {
   "codemirror_mode": {
    "name": "ipython",
    "version": 3
   },
   "file_extension": ".py",
   "mimetype": "text/x-python",
   "name": "python",
   "nbconvert_exporter": "python",
   "pygments_lexer": "ipython3",
   "version": "3.9.13"
  }
 },
 "nbformat": 4,
 "nbformat_minor": 5
}
